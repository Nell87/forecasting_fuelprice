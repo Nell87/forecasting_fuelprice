{
 "cells": [
  {
   "cell_type": "code",
   "execution_count": 27,
   "metadata": {},
   "outputs": [],
   "source": [
    "#Load Libraries\n",
    "import requests \n",
    "from bs4 import BeautifulSoup as bs\n",
    "import pandas as pd\n",
    "import numpy as np\n",
    "import re\n",
    "from decimal import Decimal\n",
    "from datetime import datetime, timedelta\n",
    "from io import StringIO\n",
    "import os\n",
    "\n",
    "import boto3\n",
    "\n",
    "os.environ[\"AWS_PROFILE\"] = (\"mlops\") # fill in with your AWS profile. More info: https://docs.aws.amazon.com/sdk-for-java/latest/developer-guide/setup.html#setup-credentials\n",
    "os.environ['AWS_DEFAULT_REGION'] = \"eu-west-1\"\n"
   ]
  },
  {
   "cell_type": "code",
   "execution_count": 28,
   "metadata": {},
   "outputs": [],
   "source": [
    "# Function to scrape weekly prices (Year has four digits and month one/two digits)\n",
    "def fuel_scraper(year, month):\n",
    "\n",
    "    # Let's make a request to check the status\n",
    "    response = requests.get('https://es.fuelo.net/calendar/month/' + str(year) +  \"/\" + str(month))\n",
    "    status_code = (response.status_code)    \n",
    "\n",
    "    if status_code != 200:\n",
    "        #print( \"The status code is not 200\")\n",
    "        return pd.DataFrame()\n",
    "    \n",
    "    else:\n",
    "        # Extract content\n",
    "        soup = bs(response.content,'html.parser')\n",
    "\n",
    "        # Prepare the dataframe\n",
    "        df=pd.DataFrame(columns=[\"Day\", \"Diesel\"])\n",
    "        \n",
    "        # Scraper\n",
    "        i = 0\n",
    "        for td in soup.table.find_all('td'):\n",
    "            if (td.text.find(\"DSL\")>-1):\n",
    "                    pattern = \" \" + \".*\"\n",
    "                    day = re.sub(pattern, '', td.get_text(strip=False) )\n",
    "                    pattern  = \".*\" + \"DSL:\" \n",
    "                    price = re.sub(pattern, '', td.get_text(strip=False) )\n",
    "                    pattern = \"€/l\" + \".*\"\n",
    "                    price = re.sub(pattern, '', price )\n",
    "                    df.at[i, \"Day\"] = day\n",
    "                    df.at[i, \"Diesel\"] = price\n",
    "                    i = i+1\n",
    "\n",
    "        # Add Date Column\n",
    "        df['Date'] = pd.to_datetime(dict(year=year, month=month, day=df.Day))\n",
    "\n",
    "        # Transform diesel column to float\n",
    "        df['Diesel'] = df['Diesel'] .str.replace('[A-Za-z]', '').str.replace(',', '.').astype(float)\n",
    "\n",
    "        # Remove week columns\n",
    "        df = df.drop('Day', axis=1)\n",
    "\n",
    "        # Reorganize columns\n",
    "        df = df[['Date', 'Diesel']]\n",
    "        \n",
    "        return df"
   ]
  },
  {
   "cell_type": "code",
   "execution_count": 29,
   "metadata": {},
   "outputs": [],
   "source": [
    "def upload_s3(bucket, new_data):\n",
    "    s3 = boto3.client('s3')\n",
    "    csv_buffer = StringIO()\n",
    "    new_data.to_csv(csv_buffer, index=False)\n",
    "\n",
    "    s3_resource = boto3.resource('s3')\n",
    "    s3_resource.Object(bucket, 'new_data.csv').put(Body=csv_buffer.getvalue())"
   ]
  },
  {
   "cell_type": "code",
   "execution_count": 36,
   "metadata": {},
   "outputs": [],
   "source": [
    "def merge_datasets_S3():\n",
    "    bucket = 'gas-prices-project'\n",
    "    filename_1 = 'data.csv'\n",
    "    filename_2 = 'new_data.csv'\n",
    "    \n",
    "    s3 = boto3.client('s3')\n",
    "    \n",
    "    first_obj = s3.get_object(Bucket= bucket, Key= filename_1)\n",
    "    second_obj = s3.get_object(Bucket= bucket, Key= filename_2)\n",
    "    \n",
    "    first_df = pd.read_csv(first_obj['Body'])\n",
    "    second_df = pd.read_csv(second_obj['Body'])\n",
    "    \n",
    "    concat_data = pd.concat([first_df, second_df]) \n",
    "    concat_data = concat_data.drop_duplicates(subset=None, keep=\"first\", inplace=False)\n",
    "    concat_data['Diesel'] = concat_data['Diesel'] .str.replace('[A-Za-z]', '').str.replace(',', '.').astype(float)\n",
    "    concat_data = concat_data[concat_data['Diesel'] != 0]\n",
    "\n",
    "    return concat_data"
   ]
  },
  {
   "cell_type": "code",
   "execution_count": 50,
   "metadata": {},
   "outputs": [],
   "source": [
    "# Scraper historical data\n",
    "def fuel_scraper_historical_data(first_year, last_year):\n",
    "# Prepare the dataframe\n",
    "    df=pd.DataFrame(columns=[\"Date\", \"Diesel\"])\n",
    "    years= range(first_year,last_year+1)\n",
    "\n",
    "    for year in years:\n",
    "        for month in range(1,13):\n",
    "            temp_dataset = fuel_scraper(year, month)\n",
    "            df = pd.concat([df, temp_dataset]) \n",
    "\n",
    "    df['Diesel'] = df['Diesel'] .str.replace('[A-Za-z]', '').str.replace(',', '.').astype(float)\n",
    "    df = df[df['Diesel'] != 0]            \n",
    "    return df\n"
   ]
  },
  {
   "cell_type": "code",
   "execution_count": 37,
   "metadata": {},
   "outputs": [],
   "source": [
    "# Scraper current month\n",
    "currentYear = datetime.now().year\n",
    "currentMonth = datetime.now().month\n",
    "dataset = fuel_scraper(currentYear, currentMonth)\n",
    "\n",
    "# Scraper previous month\n",
    "if currentMonth > 1:\n",
    "    currentMonth = currentMonth -1\n",
    "else:\n",
    "    currentMonth = 12\n",
    "    currentYear = currentYear - 1\n",
    "\n",
    "dataset_prev = fuel_scraper(currentYear, currentMonth)\n",
    "dataset = pd.concat([dataset_prev, dataset]) "
   ]
  },
  {
   "cell_type": "code",
   "execution_count": 38,
   "metadata": {},
   "outputs": [],
   "source": [
    "if dataset.empty == False:\n",
    "    # Upload S3\n",
    "    upload_s3(\"gas-prices-project\", dataset)"
   ]
  },
  {
   "cell_type": "code",
   "execution_count": 39,
   "metadata": {},
   "outputs": [
    {
     "name": "stderr",
     "output_type": "stream",
     "text": [
      "C:\\Users\\saram\\AppData\\Local\\Temp\\ipykernel_16636\\2494029586.py:16: FutureWarning: The default value of regex will change from True to False in a future version.\n",
      "  concat_data['Diesel'] = concat_data['Diesel'] .str.replace('[A-Za-z]', '').str.replace(',', '.').astype(float)\n"
     ]
    }
   ],
   "source": [
    "if dataset.empty == False:\n",
    "    # Merge\n",
    "    concat_data = merge_datasets_S3()"
   ]
  },
  {
   "cell_type": "code",
   "execution_count": 40,
   "metadata": {},
   "outputs": [],
   "source": [
    "if dataset.empty == False:\n",
    "# Upload S3\n",
    "    upload_s3(\"gas-prices-project\", concat_data)"
   ]
  },
  {
   "cell_type": "code",
   "execution_count": 41,
   "metadata": {},
   "outputs": [],
   "source": [
    "if dataset.empty == False:\n",
    "# Rename\n",
    "    s3 = boto3.resource('s3')\n",
    "    s3.Object('gas-prices-project','data.csv').delete()\n",
    "    s3.Object('gas-prices-project','data.csv').copy_from(CopySource='gas-prices-project/new_data.csv')\n",
    "    s3.Object('gas-prices-project','new_data.csv').delete()"
   ]
  },
  {
   "cell_type": "code",
   "execution_count": 51,
   "metadata": {},
   "outputs": [
    {
     "name": "stderr",
     "output_type": "stream",
     "text": [
      "C:\\Users\\saram\\AppData\\Local\\Temp\\ipykernel_16636\\2117947208.py:12: FutureWarning: The default value of regex will change from True to False in a future version.\n",
      "  df['Diesel'] = df['Diesel'] .str.replace('[A-Za-z]', '').str.replace(',', '.').astype(float)\n"
     ]
    },
    {
     "data": {
      "text/html": [
       "<div>\n",
       "<style scoped>\n",
       "    .dataframe tbody tr th:only-of-type {\n",
       "        vertical-align: middle;\n",
       "    }\n",
       "\n",
       "    .dataframe tbody tr th {\n",
       "        vertical-align: top;\n",
       "    }\n",
       "\n",
       "    .dataframe thead th {\n",
       "        text-align: right;\n",
       "    }\n",
       "</style>\n",
       "<table border=\"1\" class=\"dataframe\">\n",
       "  <thead>\n",
       "    <tr style=\"text-align: right;\">\n",
       "      <th></th>\n",
       "      <th>Date</th>\n",
       "      <th>Diesel</th>\n",
       "    </tr>\n",
       "  </thead>\n",
       "  <tbody>\n",
       "    <tr>\n",
       "      <th>0</th>\n",
       "      <td>2018-01-01</td>\n",
       "      <td>1.181</td>\n",
       "    </tr>\n",
       "    <tr>\n",
       "      <th>1</th>\n",
       "      <td>2018-01-02</td>\n",
       "      <td>1.182</td>\n",
       "    </tr>\n",
       "    <tr>\n",
       "      <th>2</th>\n",
       "      <td>2018-01-03</td>\n",
       "      <td>1.183</td>\n",
       "    </tr>\n",
       "    <tr>\n",
       "      <th>3</th>\n",
       "      <td>2018-01-04</td>\n",
       "      <td>1.183</td>\n",
       "    </tr>\n",
       "    <tr>\n",
       "      <th>4</th>\n",
       "      <td>2018-01-05</td>\n",
       "      <td>1.185</td>\n",
       "    </tr>\n",
       "    <tr>\n",
       "      <th>...</th>\n",
       "      <td>...</td>\n",
       "      <td>...</td>\n",
       "    </tr>\n",
       "    <tr>\n",
       "      <th>5</th>\n",
       "      <td>2023-03-06</td>\n",
       "      <td>1.700</td>\n",
       "    </tr>\n",
       "    <tr>\n",
       "      <th>6</th>\n",
       "      <td>2023-03-07</td>\n",
       "      <td>1.699</td>\n",
       "    </tr>\n",
       "    <tr>\n",
       "      <th>7</th>\n",
       "      <td>2023-03-08</td>\n",
       "      <td>1.699</td>\n",
       "    </tr>\n",
       "    <tr>\n",
       "      <th>8</th>\n",
       "      <td>2023-03-09</td>\n",
       "      <td>1.677</td>\n",
       "    </tr>\n",
       "    <tr>\n",
       "      <th>9</th>\n",
       "      <td>2023-03-10</td>\n",
       "      <td>1.677</td>\n",
       "    </tr>\n",
       "  </tbody>\n",
       "</table>\n",
       "<p>1895 rows × 2 columns</p>\n",
       "</div>"
      ],
      "text/plain": [
       "         Date  Diesel\n",
       "0  2018-01-01   1.181\n",
       "1  2018-01-02   1.182\n",
       "2  2018-01-03   1.183\n",
       "3  2018-01-04   1.183\n",
       "4  2018-01-05   1.185\n",
       "..        ...     ...\n",
       "5  2023-03-06   1.700\n",
       "6  2023-03-07   1.699\n",
       "7  2023-03-08   1.699\n",
       "8  2023-03-09   1.677\n",
       "9  2023-03-10   1.677\n",
       "\n",
       "[1895 rows x 2 columns]"
      ]
     },
     "execution_count": 51,
     "metadata": {},
     "output_type": "execute_result"
    }
   ],
   "source": [
    "fuel_scraper_historical_data(2018,2023)"
   ]
  }
 ],
 "metadata": {
  "kernelspec": {
   "display_name": "Python 3",
   "language": "python",
   "name": "python3"
  },
  "language_info": {
   "codemirror_mode": {
    "name": "ipython",
    "version": 3
   },
   "file_extension": ".py",
   "mimetype": "text/x-python",
   "name": "python",
   "nbconvert_exporter": "python",
   "pygments_lexer": "ipython3",
   "version": "3.9.4"
  },
  "orig_nbformat": 4
 },
 "nbformat": 4,
 "nbformat_minor": 2
}
