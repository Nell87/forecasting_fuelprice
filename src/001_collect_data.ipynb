{
 "cells": [
  {
   "cell_type": "code",
   "execution_count": 21,
   "metadata": {},
   "outputs": [],
   "source": [
    "#Load Libraries\n",
    "import requests \n",
    "from bs4 import BeautifulSoup as bs\n",
    "import pandas as pd\n",
    "import numpy as np\n",
    "import re"
   ]
  },
  {
   "cell_type": "code",
   "execution_count": 27,
   "metadata": {},
   "outputs": [],
   "source": [
    "# Function to scrape data (Year has four digits and month one/two digits)\n",
    "def oil_scraper(year, month):\n",
    "\n",
    "    # Let's make a request to check the status\n",
    "    response = requests.get('https://es.fuelo.net/calendar/week/' + str(year) +  \"/\" + str(month) + \"?lang=en'\"    )\n",
    "    status_code = (response.status_code)    \n",
    "\n",
    "    if status_code != 200:\n",
    "        return \"The status code is not 200\"\n",
    "\n",
    "    # Extract content\n",
    "    soup = bs(response.content,'html.parser')\n",
    "    calendar_week = soup.find_all('div', {'class': 'calendar week'})\n",
    "    calendar_week_elements = soup.find_all('div', class_='cell border')\n",
    "\n",
    "    # Prepare the dataframe\n",
    "    df=pd.DataFrame(columns=[\"Week\", \"Unleaded 95\", \"Diesel\", \"LPG\"])\n",
    "\n",
    "    # Scraper\n",
    "    column_names = list(df.columns.values.tolist())\n",
    "    columns = len(df.columns)\n",
    "    rows = int(len(calendar_week_elements)/columns)\n",
    "\n",
    "    i=0\n",
    "    for row in range(rows):\n",
    "        for column in range(columns):\n",
    "            if column_names[column] == \"Week\":\n",
    "                df.at[row, column_names[column]] = re.sub(re.compile(r'^[^0-9]*'), '', calendar_week_elements[i].text).strip()\n",
    "                i=i+1\n",
    "            else:\n",
    "                df.at[row, column_names[column]] = re.sub(re.compile(r'^[^0-9]*'), '', calendar_week_elements[i].text)[:-5]\n",
    "                i=i+1\n",
    "        \n",
    "    # Change the time column\n",
    "\n",
    "\n",
    "    return df"
   ]
  },
  {
   "cell_type": "code",
   "execution_count": 28,
   "metadata": {},
   "outputs": [
    {
     "data": {
      "text/html": [
       "<div>\n",
       "<style scoped>\n",
       "    .dataframe tbody tr th:only-of-type {\n",
       "        vertical-align: middle;\n",
       "    }\n",
       "\n",
       "    .dataframe tbody tr th {\n",
       "        vertical-align: top;\n",
       "    }\n",
       "\n",
       "    .dataframe thead th {\n",
       "        text-align: right;\n",
       "    }\n",
       "</style>\n",
       "<table border=\"1\" class=\"dataframe\">\n",
       "  <thead>\n",
       "    <tr style=\"text-align: right;\">\n",
       "      <th></th>\n",
       "      <th>Week</th>\n",
       "      <th>Unleaded 95</th>\n",
       "      <th>Diesel</th>\n",
       "      <th>LPG</th>\n",
       "    </tr>\n",
       "  </thead>\n",
       "  <tbody>\n",
       "    <tr>\n",
       "      <th>0</th>\n",
       "      <td>26.12 - 01.01.23</td>\n",
       "      <td>1,590</td>\n",
       "      <td>1,726</td>\n",
       "      <td>1,017</td>\n",
       "    </tr>\n",
       "    <tr>\n",
       "      <th>1</th>\n",
       "      <td>02.01 - 08.01.23</td>\n",
       "      <td>1,586</td>\n",
       "      <td>1,713</td>\n",
       "      <td>1,014</td>\n",
       "    </tr>\n",
       "    <tr>\n",
       "      <th>2</th>\n",
       "      <td>09.01 - 15.01.23</td>\n",
       "      <td>1,616</td>\n",
       "      <td>1,717</td>\n",
       "      <td>1,005</td>\n",
       "    </tr>\n",
       "    <tr>\n",
       "      <th>3</th>\n",
       "      <td>16.01 - 22.01.23</td>\n",
       "      <td>1,645</td>\n",
       "      <td>1,734</td>\n",
       "      <td>1,000</td>\n",
       "    </tr>\n",
       "    <tr>\n",
       "      <th>4</th>\n",
       "      <td>23.01 - 29.01.23</td>\n",
       "      <td>1,669</td>\n",
       "      <td>1,747</td>\n",
       "      <td>0,999</td>\n",
       "    </tr>\n",
       "    <tr>\n",
       "      <th>5</th>\n",
       "      <td>30.01 - 05.02.23</td>\n",
       "      <td>1,699</td>\n",
       "      <td>1,745</td>\n",
       "      <td>0,999</td>\n",
       "    </tr>\n",
       "  </tbody>\n",
       "</table>\n",
       "</div>"
      ],
      "text/plain": [
       "                Week Unleaded 95 Diesel    LPG\n",
       "0  26.12 - 01.01.23        1,590  1,726  1,017\n",
       "1  02.01 - 08.01.23        1,586  1,713  1,014\n",
       "2  09.01 - 15.01.23        1,616  1,717  1,005\n",
       "3  16.01 - 22.01.23        1,645  1,734  1,000\n",
       "4  23.01 - 29.01.23        1,669  1,747  0,999\n",
       "5  30.01 - 05.02.23        1,699  1,745  0,999"
      ]
     },
     "execution_count": 28,
     "metadata": {},
     "output_type": "execute_result"
    }
   ],
   "source": [
    "test = oil_scraper(2023, 1)\n",
    "test"
   ]
  },
  {
   "cell_type": "code",
   "execution_count": null,
   "metadata": {},
   "outputs": [],
   "source": [
    "# Data to export\n",
    "#test.to_excel(\"scraper.xlsx\")"
   ]
  }
 ],
 "metadata": {
  "kernelspec": {
   "display_name": "Python 3",
   "language": "python",
   "name": "python3"
  },
  "language_info": {
   "codemirror_mode": {
    "name": "ipython",
    "version": 3
   },
   "file_extension": ".py",
   "mimetype": "text/x-python",
   "name": "python",
   "nbconvert_exporter": "python",
   "pygments_lexer": "ipython3",
   "version": "3.9.4"
  },
  "orig_nbformat": 4,
  "vscode": {
   "interpreter": {
    "hash": "923e144e6999e405e8ea585da48047c170f9e9bf8b473272becb1726ca977c48"
   }
  }
 },
 "nbformat": 4,
 "nbformat_minor": 2
}
