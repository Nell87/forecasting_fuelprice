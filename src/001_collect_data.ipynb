{
 "cells": [
  {
   "cell_type": "code",
   "execution_count": 52,
   "metadata": {},
   "outputs": [],
   "source": [
    "#Load Libraries\n",
    "import requests \n",
    "from bs4 import BeautifulSoup as bs\n",
    "import pandas as pd\n",
    "import numpy as np\n",
    "import re\n",
    "from decimal import Decimal\n",
    "from datetime import datetime, timedelta\n",
    "from io import StringIO\n",
    "\n",
    "import boto3"
   ]
  },
  {
   "cell_type": "code",
   "execution_count": 84,
   "metadata": {},
   "outputs": [],
   "source": [
    "# Function to scrape weekly prices (Year has four digits and month one/two digits)\n",
    "def fuel_scraper(year, month):\n",
    "\n",
    "    # Let's make a request to check the status\n",
    "    response = requests.get('https://es.fuelo.net/calendar/week/' + str(year) +  \"/\" + str(month) + \"?lang=en'\"    )\n",
    "    status_code = (response.status_code)    \n",
    "\n",
    "    if status_code != 200:\n",
    "        return \"The status code is not 200\"\n",
    "\n",
    "    # Extract content\n",
    "    soup = bs(response.content,'html.parser')\n",
    "    calendar_week = soup.find_all('div', {'class': 'calendar week'})\n",
    "    calendar_week_elements = soup.find_all('div', class_='cell border')\n",
    "\n",
    "    if calendar_week_elements == []: \n",
    "        return pd.DataFrame()\n",
    "    \n",
    "    else:\n",
    "\n",
    "        # Prepare the dataframe\n",
    "        df=pd.DataFrame(columns=[\"Week\", \"Unleaded 95\", \"Diesel\", \"LPG\"])\n",
    "\n",
    "        # Scraper\n",
    "        column_names = list(df.columns.values.tolist())\n",
    "        columns = len(df.columns)\n",
    "        rows = int(len(calendar_week_elements)/columns)\n",
    "\n",
    "        i=0\n",
    "        for row in range(rows):\n",
    "            for column in range(columns):\n",
    "                if column_names[column] == \"Week\":\n",
    "                    df.at[row, column_names[column]] = re.sub(re.compile(r'^[^0-9]*'), '', calendar_week_elements[i].text).strip()\n",
    "                    i=i+1\n",
    "                else:\n",
    "                    df.at[row, column_names[column]] = re.sub(re.compile(r'^[^0-9]*'), '', calendar_week_elements[i].text)[:-5]\n",
    "                    i=i+1\n",
    "            \n",
    "        # Add end day\n",
    "        for row in range(rows):\n",
    "            df.at[row,'end_day'] = datetime.strptime(df.at[row, \"Week\"][-8:],'%d.%m.%y')\n",
    "        \n",
    "        # Add start day\n",
    "        for row in range(rows):\n",
    "            df.at[row,'start_day'] = datetime.strptime(df.at[row, \"Week\"][-8:],'%d.%m.%y') -  timedelta(days=6)\n",
    "\n",
    "        # Remove week columns\n",
    "        df = df.iloc[: , 1:]\n",
    "\n",
    "        # Reorganize columns\n",
    "        df = df[['start_day', 'end_day', 'Unleaded 95', 'Diesel', 'LPG']]\n",
    "\n",
    "        return df\n"
   ]
  },
  {
   "cell_type": "code",
   "execution_count": 77,
   "metadata": {},
   "outputs": [],
   "source": [
    "def upload_s3(bucket, new_data):\n",
    "    s3 = boto3.client('s3')\n",
    "    csv_buffer = StringIO()\n",
    "    new_data.to_csv(csv_buffer, index=False)\n",
    "\n",
    "    s3_resource = boto3.resource('s3')\n",
    "    s3_resource.Object(bucket, 'new_data.csv').put(Body=csv_buffer.getvalue())"
   ]
  },
  {
   "cell_type": "code",
   "execution_count": 78,
   "metadata": {},
   "outputs": [],
   "source": [
    "def merge_datasets_S3():\n",
    "    bucket = 'gas-prices-project'\n",
    "    filename_1 = 'data.csv'\n",
    "    filename_2 = 'new_data.csv'\n",
    "    \n",
    "    s3 = boto3.client('s3')\n",
    "    \n",
    "    first_obj = s3.get_object(Bucket= bucket, Key= filename_1)\n",
    "    second_obj = s3.get_object(Bucket= bucket, Key= filename_2)\n",
    "    \n",
    "    first_df = pd.read_csv(first_obj['Body'])\n",
    "    second_df = pd.read_csv(second_obj['Body'])\n",
    "    \n",
    "    concat_data = pd.concat([first_df, second_df]) \n",
    "    concat_data = concat_data.drop_duplicates(subset=None, keep=\"first\", inplace=False)\n",
    "\n",
    "    return concat_data"
   ]
  },
  {
   "cell_type": "code",
   "execution_count": 85,
   "metadata": {},
   "outputs": [],
   "source": [
    "# Scraper\n",
    "currentYear = datetime.now().year\n",
    "currentMonth = datetime.now().month\n",
    "dataset = fuel_scraper(currentYear, currentMonth)"
   ]
  },
  {
   "cell_type": "code",
   "execution_count": 86,
   "metadata": {},
   "outputs": [
    {
     "data": {
      "text/plain": [
       "True"
      ]
     },
     "execution_count": 86,
     "metadata": {},
     "output_type": "execute_result"
    }
   ],
   "source": [
    "dataset.empty"
   ]
  },
  {
   "cell_type": "code",
   "execution_count": null,
   "metadata": {},
   "outputs": [],
   "source": [
    "if dataset.empty == False:\n",
    "    # Upload S3\n",
    "    upload_s3(\"gas-prices-project\", dataset)"
   ]
  },
  {
   "cell_type": "code",
   "execution_count": 67,
   "metadata": {},
   "outputs": [],
   "source": [
    "if dataset.empty == False:\n",
    "    # Merge\n",
    "    concat_data = merge_datasets_S3()"
   ]
  },
  {
   "cell_type": "code",
   "execution_count": 68,
   "metadata": {},
   "outputs": [],
   "source": [
    "if dataset.empty == False:\n",
    "# Upload S3\n",
    "    upload_s3(\"gas-prices-project\", concat_data)"
   ]
  },
  {
   "cell_type": "code",
   "execution_count": 69,
   "metadata": {},
   "outputs": [],
   "source": [
    "if dataset.empty == False:\n",
    "# Rename\n",
    "    s3 = boto3.resource('s3')\n",
    "    s3.Object('gas-prices-project','data.csv').delete()\n",
    "    s3.Object('gas-prices-project','data.csv').copy_from(CopySource='gas-prices-project/new_data.csv')\n",
    "    s3.Object('gas-prices-project','new_data.csv').delete()"
   ]
  }
 ],
 "metadata": {
  "kernelspec": {
   "display_name": "Python 3",
   "language": "python",
   "name": "python3"
  },
  "language_info": {
   "codemirror_mode": {
    "name": "ipython",
    "version": 3
   },
   "file_extension": ".py",
   "mimetype": "text/x-python",
   "name": "python",
   "nbconvert_exporter": "python",
   "pygments_lexer": "ipython3",
   "version": "3.9.4"
  },
  "orig_nbformat": 4,
  "vscode": {
   "interpreter": {
    "hash": "923e144e6999e405e8ea585da48047c170f9e9bf8b473272becb1726ca977c48"
   }
  }
 },
 "nbformat": 4,
 "nbformat_minor": 2
}
